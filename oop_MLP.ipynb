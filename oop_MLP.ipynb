{
 "cells": [
  {
   "cell_type": "code",
   "execution_count": null,
   "metadata": {},
   "outputs": [],
   "source": [
    "import torch\n",
    "import torch.nn as nn\n",
    "import torch.nn.functional as F\n",
    "import torch.optim as optim\n",
    "import pandas as pd\n",
    "from sklearn.preprocessing import MinMaxScaler\n",
    "import matplotlib.pyplot as plt\n",
    "from sklearn.metrics import confusion_matrix#加入confussion matrix\n",
    "import seaborn as sns"
   ]
  },
  {
   "cell_type": "code",
   "execution_count": null,
   "metadata": {},
   "outputs": [],
   "source": [
    "# 總訓練次數\n",
    "EPOCHS = 26 \n",
    "# 設定訓練裝置，預設為GPU，沒有就用CPU\n",
    "DEVICE = torch.device(\"cuda\" if torch.cuda.is_available() else \"cpu\") "
   ]
  },
  {
   "cell_type": "code",
   "execution_count": null,
   "metadata": {},
   "outputs": [],
   "source": [
    "# Load data\n",
    "Train_data = pd.read_csv('BC_Train.csv', header=None)\n",
    "Test_data = pd.read_csv('BC_Test.csv', header=None)"
   ]
  },
  {
   "cell_type": "code",
   "execution_count": null,
   "metadata": {},
   "outputs": [],
   "source": [
    "# show ground truth value counts\n",
    "Train_data[6].value_counts()"
   ]
  },
  {
   "cell_type": "code",
   "execution_count": null,
   "metadata": {},
   "outputs": [],
   "source": [
    "mms = MinMaxScaler()\n",
    "Train_data = mms.fit_transform(Train_data)\n",
    "Test_data = mms.transform(Test_data)"
   ]
  },
  {
   "cell_type": "code",
   "execution_count": null,
   "metadata": {},
   "outputs": [],
   "source": [
    "X_train = Train_data[:, 0:6]\n",
    "y_train = Train_data[:, 6]\n",
    "X_test = Test_data[:, 0:6]\n",
    "y_test = Test_data[:, 6]"
   ]
  },
  {
   "cell_type": "code",
   "execution_count": null,
   "metadata": {},
   "outputs": [],
   "source": [
    "#one-hot encoding\n",
    "y_train = torch.from_numpy(y_train).long()\n",
    "y_test = torch.from_numpy(y_test).long()\n",
    "y_train = torch.nn.functional.one_hot(y_train, 2)   \n",
    "y_test = torch.nn.functional.one_hot(y_test, 2)\n",
    "X_train = torch.from_numpy(X_train).float().to(DEVICE)\n",
    "X_test = torch.from_numpy(X_test).float().to(DEVICE)"
   ]
  },
  {
   "cell_type": "code",
   "execution_count": null,
   "metadata": {},
   "outputs": [],
   "source": [
    "class data_loader(torch.utils.data.Dataset):\n",
    "    def __init__(self, X, y):\n",
    "        self.X = X\n",
    "        self.y = y\n",
    "\n",
    "    def __len__(self):\n",
    "        return len(self.X)\n",
    "\n",
    "    def __getitem__(self, idx):\n",
    "        return self.X[idx], self.y[idx]\n",
    "class MLP(nn.Module):\n",
    "    def __init__(self):\n",
    "        super(MLP, self).__init__()\n",
    "        self.fc1 = nn.Linear(X_train.shape[1], 64)#建立全連接層，將輸入的特徵數量映射成64個元素\n",
    "        self.fc2 = nn.Linear(64, 128)#將64個元素映射成128個元素\n",
    "        self.fc3 = nn.Linear(128, 64)#將128個元素映射成64個元素\n",
    "        self.fc4 = nn.Linear(64, 2)#將64個元素映射成2個元素\n",
    "        self.dropout = nn.Dropout(0.2)#建立Dropout層，每次訓練隨機丟棄20%的神經元\n",
    "\n",
    "    def forward(self, x):\n",
    "        x = F.relu(self.fc1(x))#將輸入資料x經過第一層全連接層轉換成64個元素\n",
    "        x = self.dropout(x)#對第一層全連接層的輸出進行Dropout\n",
    "        x = F.relu(self.fc2(x))#將經過Dropout的輸出經過第二層全連接層轉換成128個元素\n",
    "        x = self.dropout(x)#進行Dropout\n",
    "        x = F.relu(self.fc3(x))# 將經過Dropout的輸出經過第三層全連接層轉換成64個元素\n",
    "        x = self.fc4(x)#將經過第三層全連接層的輸出經過第四層全連接層轉換成2個元素\n",
    "        return x"
   ]
  },
  {
   "cell_type": "code",
   "execution_count": null,
   "metadata": {},
   "outputs": [],
   "source": [
    "train_data_loader = data_loader(X_train, y_train)\n",
    "train_data_loader = torch.utils.data.DataLoader(train_data_loader, batch_size=8, shuffle=True)\n",
    "test_data_loader = data_loader(X_test, y_test)\n",
    "test_data_loader = torch.utils.data.DataLoader(test_data_loader, batch_size=8, shuffle=True)"
   ]
  },
  {
   "cell_type": "code",
   "execution_count": null,
   "metadata": {},
   "outputs": [],
   "source": [
    "def train(model, device, train_loader, optimizer, epoch):\n",
    "    model.train()#將模型設置為訓練模式\n",
    "    for batch_idx, (data, target) in enumerate(train_loader):\n",
    "        data, target = data.to(device), target.to(device)#將數據和標籤發送到指定的裝置上\n",
    "        optimizer.zero_grad()#對優化器進行參數更新\n",
    "        output = model(data)#通過模型進行前向傳播\n",
    "        loss = F.cross_entropy(output, target.argmax(1))#計算輸出和標籤之間的交叉熵損失\n",
    "        loss.backward()#計算梯度\n",
    "        optimizer.step()#更新模型參數\n",
    "        if batch_idx % 500 == 0:#每500次迭代輸出訓練狀態\n",
    "            print('Train Epoch: {} [{}/{} ({:.0f}%)]\\tLoss: {:.6f}'.format(\n",
    "                epoch, batch_idx * len(data), len(train_loader.dataset),\n",
    "                100. * batch_idx / len(train_loader), loss.item()))\n",
    "def test(model,device,optimizer,epoch,test_loader):\n",
    "    model.eval()    #將模型設置為驗證模式\n",
    "    test_loss = 0  #初始化測試損失和正確預測數量\n",
    "    correct = 0\n",
    "    with torch.no_grad():    #設置 torch.no_grad()避免計算梯度\n",
    "        for data, target in test_loader:\n",
    "            data, target = data.to(device), target.to(device)#將data和target發送到指定的裝置上\n",
    "            output = model(data)#通過模型進行前向傳播\n",
    "            test_loss += F.cross_entropy(output, target.argmax(1), reduction='sum').item() #計算輸出和目標之間的交叉損失\n",
    "            pred = output.argmax(1, keepdim=True)#獲取最高概率預測類的索引\n",
    "            correct += pred.eq(target.argmax(1, keepdim=True).view_as(pred)).sum().item()#與真實類比較並更新正確預測數\n",
    "            \n",
    "    test_loss /= len(test_loader.dataset)#計算平均測試損失\n",
    "    print('Test set: Average loss: {:.4f}, Accuracy: {}/{} ({:.0f}%)'.format(\n",
    "        test_loss, correct, len(test_loader.dataset),\n",
    "        100. * correct / len(test_loader.dataset)))\n",
    "    return test_loss, (100. * correct / len(test_loader.dataset))"
   ]
  },
  {
   "cell_type": "code",
   "execution_count": null,
   "metadata": {},
   "outputs": [],
   "source": [
    "\n",
    "model = MLP().to(DEVICE)\n",
    "optimizer = optim.SGD(model.parameters(), lr=0.001)\n",
    "scheduler = optim.lr_scheduler.StepLR(optimizer, step_size=50, gamma=0.1)#這是一個學習率調整器，每50個epoch調整一次學習率，乘上0.1\n"
   ]
  },
  {
   "cell_type": "code",
   "execution_count": null,
   "metadata": {},
   "outputs": [],
   "source": [
    "\n",
    "test_loss = []\n",
    "test_acc = []\n",
    "for epoch in range(1, EPOCHS + 1):\n",
    "    train(model, DEVICE, train_data_loader, optimizer, epoch)\n",
    "    scheduler.step()\n",
    "    loss, acc = test(model, DEVICE, optimizer, epoch, test_data_loader)\n",
    "    test_loss.append(loss)\n",
    "    test_acc.append(acc)\n"
   ]
  },
  {
   "cell_type": "code",
   "execution_count": null,
   "metadata": {},
   "outputs": [],
   "source": [
    "#confusion matrix\n",
    "\n",
    "y_pred = model(X_test.to(DEVICE)).argmax(dim=1, keepdim=True)\n",
    "y_true = y_test.argmax(1, keepdim=True).view_as(y_pred)\n",
    "cm = confusion_matrix(y_true.cpu(), y_pred.cpu())\n",
    "print('confusion matrix')\n",
    "print(cm)"
   ]
  },
  {
   "cell_type": "code",
   "execution_count": null,
   "metadata": {},
   "outputs": [],
   "source": [
    "#輸出loss圖\n",
    "plt.plot(test_loss)\n",
    "plt.title('Test loss')\n",
    "plt.legend(['loss'])\n",
    "plt.show()\n",
    "#輸出acc圖\n",
    "plt.plot(test_acc)\n",
    "plt.title('Test acc')\n",
    "plt.legend(['acc'])\n",
    "plt.show()"
   ]
  }
 ],
 "metadata": {
  "language_info": {
   "name": "python"
  },
  "orig_nbformat": 4
 },
 "nbformat": 4,
 "nbformat_minor": 2
}
